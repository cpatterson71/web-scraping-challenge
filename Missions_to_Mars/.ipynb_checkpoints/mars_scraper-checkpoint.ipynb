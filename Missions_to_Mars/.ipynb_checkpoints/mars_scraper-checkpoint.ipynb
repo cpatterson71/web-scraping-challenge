{
 "cells": [
  {
   "cell_type": "code",
   "execution_count": 10,
   "metadata": {},
   "outputs": [],
   "source": [
    "from splinter import Browser\n",
    "from bs4 import BeautifulSoup\n",
    "import time \n",
    "import pandas as pd"
   ]
  },
  {
   "cell_type": "code",
   "execution_count": 11,
   "metadata": {},
   "outputs": [],
   "source": [
    "def init_browser():\n",
    "    executable_path = {\"executable_path\": \"C:/Users/Administrator/.wdm/drivers/chromedriver/win32/86.0.4240.22/chromedriver\"}\n",
    "    return Browser(\"chrome\", **executable_path, headless=False)"
   ]
  },
  {
   "cell_type": "markdown",
   "metadata": {},
   "source": [
    "# Scraping News from NASA"
   ]
  },
  {
   "cell_type": "code",
   "execution_count": 33,
   "metadata": {},
   "outputs": [],
   "source": [
    "def nasa_news():\n",
    "    browser = init_browser()\n",
    "    articles = []\n",
    "    paragraphs = []\n",
    "    \n",
    "    url = \"https://mars.nasa.gov/news/\"\n",
    "    \n",
    "    browser.visit(url)\n",
    "    time.sleep(5)\n",
    "    html = browser.html\n",
    "    soup = BeautifulSoup(html, \"html.parser\")\n",
    "    \n",
    "    news_title = soup.find_all('div', class_=\"content_title\")\n",
    "    news_p = soup.find_all('div', class_='article_teaser_body')\n",
    "    \n",
    "    for item in news_title:\n",
    "        articles.append(item.get_text())\n",
    "        \n",
    "    for paragraph in news_p:\n",
    "        paragraphs.append(item.get_text())\n",
    "    \n",
    "    return [*zip(articles, paragraphs)]\n",
    "    \n",
    "nasa_news()"
   ]
  },
  {
   "cell_type": "code",
   "execution_count": 39,
   "metadata": {},
   "outputs": [
    {
     "name": "stdout",
     "output_type": "stream",
     "text": [
      "\n",
      "\n",
      "NASA to Hold Mars 2020 Perseverance Rover Launch Briefing\n",
      "\n",
      "\n"
     ]
    }
   ],
   "source": [
    "# return the first paragraph\n",
    "# print(x[0][1])"
   ]
  },
  {
   "cell_type": "markdown",
   "metadata": {},
   "source": [
    "# Featured Image from NASA JPL Mars Space Image"
   ]
  },
  {
   "cell_type": "code",
   "execution_count": 51,
   "metadata": {},
   "outputs": [
    {
     "name": "stdout",
     "output_type": "stream",
     "text": [
      "https://jpl.nasa.gov/spaceimages/images/wallpaper/PIA09320-1920x1200.jpg\n"
     ]
    }
   ],
   "source": [
    "def mars_image():\n",
    "    url = \"https://jpl.nasa.gov/spaceimages/?search=&category=Mars\"\n",
    "    browser = init_browser()\n",
    "    browser.visit(url)\n",
    "    time.sleep(5)\n",
    "    html = browser.html\n",
    "    soup = BeautifulSoup(html, \"html.parser\")\n",
    "    \n",
    "    img_source = soup.find(class_=\"carousel_item\")['style']\n",
    "    img_string = img_source.split(\"'\")[1]\n",
    "    base_url = 'https://jpl.nasa.gov'\n",
    "    final_image_url = base_url + img_string\n",
    "    #print(final_image_url)\n",
    "mars_image()"
   ]
  },
  {
   "cell_type": "markdown",
   "metadata": {},
   "source": [
    "# Scraping table from Mars Facts using Pandas"
   ]
  },
  {
   "cell_type": "code",
   "execution_count": 61,
   "metadata": {},
   "outputs": [
    {
     "name": "stdout",
     "output_type": "stream",
     "text": [
      "[{\"0\":\"Equatorial Diameter:\",\"1\":\"6,792 km\"},{\"0\":\"Polar Diameter:\",\"1\":\"6,752 km\"},{\"0\":\"Mass:\",\"1\":\"6.39 \\u00d7 10^23 kg (0.11 Earths)\"},{\"0\":\"Moons:\",\"1\":\"2 (Phobos & Deimos)\"},{\"0\":\"Orbit Distance:\",\"1\":\"227,943,824 km (1.38 AU)\"},{\"0\":\"Orbit Period:\",\"1\":\"687 days (1.9 years)\"},{\"0\":\"Surface Temperature:\",\"1\":\"-87 to -5 \\u00b0C\"},{\"0\":\"First Record:\",\"1\":\"2nd millennium BC\"},{\"0\":\"Recorded By:\",\"1\":\"Egyptian astronomers\"}]\n"
     ]
    }
   ],
   "source": [
    "def mars_facts():\n",
    "    url = 'https://space-facts.com/mars/'\n",
    "    facts_table = pd.read_html(url)\n",
    "    mars_table = facts_table[0].to_json(orient='records')\n",
    "    #print(mars_table)\n",
    "mars_facts()"
   ]
  },
  {
   "cell_type": "markdown",
   "metadata": {},
   "source": [
    "# Getting high-res pictures of Mars Hemispheres"
   ]
  },
  {
   "cell_type": "code",
   "execution_count": 74,
   "metadata": {},
   "outputs": [
    {
     "name": "stdout",
     "output_type": "stream",
     "text": [
      "[{'title': 'Cerberus Hemisphere Enhanced', 'image_url': 'https://astrogeology.usgs.gov/cache/images/39d3266553462198bd2fbc4d18fbed17_cerberus_enhanced.tif_thumb.png'}, {'title': 'Schiaparelli Hemisphere Enhanced', 'image_url': 'https://astrogeology.usgs.gov/cache/images/39d3266553462198bd2fbc4d18fbed17_cerberus_enhanced.tif_thumb.png'}, {'title': 'Syrtis Major Hemisphere Enhanced', 'image_url': 'https://astrogeology.usgs.gov/cache/images/39d3266553462198bd2fbc4d18fbed17_cerberus_enhanced.tif_thumb.png'}, {'title': 'Valles Marineris Hemisphere Enhanced', 'image_url': 'https://astrogeology.usgs.gov/cache/images/39d3266553462198bd2fbc4d18fbed17_cerberus_enhanced.tif_thumb.png'}]\n"
     ]
    }
   ],
   "source": [
    "def mars_hemi():\n",
    "    url = 'https://astrogeology.usgs.gov/search/results?q=hemisphere+enhanced&k1=target&v1=Mars'\n",
    "    browser = init_browser()\n",
    "    browser.visit(url)\n",
    "    time.sleep(5)\n",
    "    html = browser.html\n",
    "    soup = BeautifulSoup(html, \"html.parser\")\n",
    "    \n",
    "    title = []\n",
    "    i = 0\n",
    "    while i < 4:\n",
    "        hemisphere = soup.find_all('h3')[i].text.strip()\n",
    "        title.append(hemisphere)\n",
    "        i += 1\n",
    "    \n",
    "    paths = []\n",
    "    i = 0 \n",
    "    while i < 8:\n",
    "        path = soup.find_all('a', class_='itemLink product-item')[i]['href']\n",
    "        paths.append(path)\n",
    "        i += 2\n",
    "    \n",
    "    base_url = \"https://astrogeology.usgs.gov\"\n",
    "    url_list = []\n",
    "    \n",
    "    for path in paths:\n",
    "        url = base_url + path\n",
    "        url_list.append(url)\n",
    "    time.sleep(5)\n",
    "        \n",
    "    image_url = []\n",
    "    for url in url_list:\n",
    "        img_source = soup.find('img', class_=\"thumb\")['src']\n",
    "        img_url = base_url + img_source\n",
    "        image_url.append(img_url)\n",
    "#     print(image_url)\n",
    "# now need to make the dictionary\n",
    "    hemi_image_urls = []\n",
    "    i = 0\n",
    "    while i < 4:\n",
    "        hemi_image_urls.append({'title': title[i], 'image_url': image_url[i]})\n",
    "        i += 1\n",
    "    # print(hemi_image_urls)\n",
    "mars_hemi()"
   ]
  },
  {
   "cell_type": "code",
   "execution_count": null,
   "metadata": {},
   "outputs": [],
   "source": []
  }
 ],
 "metadata": {
  "kernelspec": {
   "display_name": "Python 3",
   "language": "python",
   "name": "python3"
  },
  "language_info": {
   "codemirror_mode": {
    "name": "ipython",
    "version": 3
   },
   "file_extension": ".py",
   "mimetype": "text/x-python",
   "name": "python",
   "nbconvert_exporter": "python",
   "pygments_lexer": "ipython3",
   "version": "3.8.3"
  }
 },
 "nbformat": 4,
 "nbformat_minor": 4
}
